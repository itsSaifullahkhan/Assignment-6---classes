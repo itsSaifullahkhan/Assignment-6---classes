{
 "cells": [
  {
   "cell_type": "markdown",
   "metadata": {
    "id": "XLFr4w_7OFN7"
   },
   "source": [
    "1. Write a Python program to create a class representing a Circle. Include methods to calculate its area and perimeter."
   ]
  },
  {
   "cell_type": "code",
   "execution_count": 24,
   "metadata": {},
   "outputs": [
    {
     "name": "stdin",
     "output_type": "stream",
     "text": [
      "enter your value: 5\n"
     ]
    },
    {
     "name": "stdout",
     "output_type": "stream",
     "text": [
      "the area of a circle is 78.55\n"
     ]
    }
   ],
   "source": [
    "# Add your code here\n",
    "class circle:\n",
    "    def __init__(self,pi,radius):\n",
    "        self.pi=pi\n",
    "        self.radius=radius\n",
    "    def area(self):\n",
    "        print(f\"the area of a circle is {pi*radius*radius}\")\n",
    "    def perimeter(self):\n",
    "        print(f\"the perimeter of a circle is {2*pi*r)\")\n",
    "pi=3.142\n",
    "radius=int(input(\"enter your value:\"))\n",
    "area=circle(pi,radius)\n",
    "perimeter=circle\n",
    "area.area()\n",
    "\n",
    "\n"
   ]
  },
  {
   "cell_type": "markdown",
   "metadata": {
    "id": "CBPk4mH4OTCO"
   },
   "source": [
    "2. Write a Python program to create a person class. Include attributes like name, country and date of birth. Implement a method to determine the person's age.\n"
   ]
  },
  {
   "cell_type": "code",
   "execution_count": 1,
   "metadata": {},
   "outputs": [
    {
     "name": "stdout",
     "output_type": "stream",
     "text": [
      "Name: Saifullah\n",
      "Country: Pakistan\n",
      "Age: 18 years\n"
     ]
    }
   ],
   "source": [
    "from datetime import datetime\n",
    "class person:\n",
    "    def __init__(self,name,country,dob):\n",
    "        self.name=name\n",
    "        self.country=country\n",
    "        self.dob=dob\n",
    "    def age(self):\n",
    "        birth_year=int(self.dob.split('-')[0])\n",
    "        current_year = datetime.now().year\n",
    "        return current_year-birth_year\n",
    "Person=person(\"Saifullah\",\"Pakistan\",\"2006-09-08\")\n",
    "print(f\"Name: {Person.name}\")\n",
    "print(f\"Country: {Person.country}\")\n",
    "print(f\"Age: {Person.age()} years\")\n",
    "            "
   ]
  },
  {
   "cell_type": "markdown",
   "metadata": {},
   "source": [
    "3. Write a Python program to create a calculator class. Include methods for basic arithmetic operations."
   ]
  },
  {
   "cell_type": "code",
   "execution_count": 44,
   "metadata": {},
   "outputs": [
    {
     "name": "stdout",
     "output_type": "stream",
     "text": [
      "Addition = 12\n",
      "Subtraction = 2\n",
      "Multiplication = 35\n",
      "Divition = 3.0\n"
     ]
    }
   ],
   "source": [
    "class calculator:\n",
    "    def addition(self,num_1,num_2):\n",
    "        addition=num_1+num_2\n",
    "        print(f\"Addition = {addition}\")\n",
    "    def subtraction(self,num_1,num_2):\n",
    "        subtraction=num_1-num_2\n",
    "        print(f\"Subtraction = {subtraction}\")\n",
    "    def multiplication(self,num_1,num_2):\n",
    "        multiplication=num_1*num_2\n",
    "        print(f\"Multiplication = {multiplication}\")\n",
    "    def division(self,num_1,num_2):\n",
    "        division=num_1/num_2\n",
    "        print(f\"Divition = {division}\")\n",
    "calculation=calculator()\n",
    "calculation.addition(5,7)\n",
    "calculation.subtraction(7,5)\n",
    "calculation.multiplication(5,7)\n",
    "calculation.division(6,2)\n",
    "    "
   ]
  },
  {
   "cell_type": "code",
   "execution_count": null,
   "metadata": {},
   "outputs": [],
   "source": []
  }
 ],
 "metadata": {
  "colab": {
   "provenance": []
  },
  "kernelspec": {
   "display_name": "Python 3 (ipykernel)",
   "language": "python",
   "name": "python3"
  },
  "language_info": {
   "codemirror_mode": {
    "name": "ipython",
    "version": 3
   },
   "file_extension": ".py",
   "mimetype": "text/x-python",
   "name": "python",
   "nbconvert_exporter": "python",
   "pygments_lexer": "ipython3",
   "version": "3.11.7"
  }
 },
 "nbformat": 4,
 "nbformat_minor": 4
}
